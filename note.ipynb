{
 "cells": [
  {
   "cell_type": "code",
   "execution_count": 94,
   "id": "41a73719",
   "metadata": {},
   "outputs": [],
   "source": [
    "import pandas as pd\n",
    "tp = pd.read_excel('./KODEX_KTOP_30_20220720.xls',header=3)[14:34].reset_index().drop('index',axis=1).reset_index()\n",
    "tp.to_csv('./KTOP30_price.csv')"
   ]
  },
  {
   "cell_type": "code",
   "execution_count": 120,
   "id": "ca2545cf",
   "metadata": {},
   "outputs": [
    {
     "name": "stdout",
     "output_type": "stream",
     "text": [
      "<class 'pandas.core.frame.DataFrame'>\n",
      "RangeIndex: 516 entries, 0 to 515\n",
      "Data columns (total 3 columns):\n",
      " #   Column  Non-Null Count  Dtype  \n",
      "---  ------  --------------  -----  \n",
      " 0   날짜      516 non-null    object \n",
      " 1   거래회전율   516 non-null    float64\n",
      " 2   환율      516 non-null    float64\n",
      "dtypes: float64(2), object(1)\n",
      "memory usage: 12.2+ KB\n"
     ]
    }
   ],
   "source": [
    "df = pd.read_csv('./data_20200601_20220630.csv')\n",
    "df.info()"
   ]
  }
 ],
 "metadata": {
  "kernelspec": {
   "display_name": "Python 3 (ipykernel)",
   "language": "python",
   "name": "python3"
  },
  "language_info": {
   "codemirror_mode": {
    "name": "ipython",
    "version": 3
   },
   "file_extension": ".py",
   "mimetype": "text/x-python",
   "name": "python",
   "nbconvert_exporter": "python",
   "pygments_lexer": "ipython3",
   "version": "3.9.12"
  }
 },
 "nbformat": 4,
 "nbformat_minor": 5
}
