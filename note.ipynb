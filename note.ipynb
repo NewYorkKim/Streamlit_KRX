{
 "cells": [
  {
   "cell_type": "code",
   "execution_count": 30,
   "id": "1d05a374",
   "metadata": {},
   "outputs": [],
   "source": [
    "import pandas as pd\n",
    "tp = pd.read_excel('./KODEX_KTOP_30_20220720.xls',header=3)[14:34].reset_index().drop('index',axis=1).reset_index()\n",
    "tp.to_csv('./KTOP30_price.csv')"
   ]
  }
 ],
 "metadata": {
  "kernelspec": {
   "display_name": "Python 3 (ipykernel)",
   "language": "python",
   "name": "python3"
  },
  "language_info": {
   "codemirror_mode": {
    "name": "ipython",
    "version": 3
   },
   "file_extension": ".py",
   "mimetype": "text/x-python",
   "name": "python",
   "nbconvert_exporter": "python",
   "pygments_lexer": "ipython3",
   "version": "3.9.12"
  }
 },
 "nbformat": 4,
 "nbformat_minor": 5
}
